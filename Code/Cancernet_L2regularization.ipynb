{
  "nbformat": 4,
  "nbformat_minor": 0,
  "metadata": {
    "colab": {
      "provenance": [],
      "collapsed_sections": []
    },
    "kernelspec": {
      "name": "python3",
      "display_name": "Python 3"
    },
    "language_info": {
      "name": "python"
    },
    "gpuClass": "standard",
    "accelerator": "GPU"
  },
  "cells": [
    {
      "cell_type": "code",
      "source": [
        "%tensorflow_version 2.x\n",
        "import tensorflow as tf\n",
        "device_name = tf.test.gpu_device_name()\n",
        "if device_name != '/device:GPU:0':\n",
        "  raise SystemError('GPU device not found')\n",
        "print('Found GPU at: {}'.format(device_name))"
      ],
      "metadata": {
        "colab": {
          "base_uri": "https://localhost:8080/"
        },
        "id": "QFe6vVYE0gWR",
        "outputId": "371c47a3-a720-47ab-b091-06e2318f7460"
      },
      "execution_count": null,
      "outputs": [
        {
          "output_type": "stream",
          "name": "stdout",
          "text": [
            "Colab only includes TensorFlow 2.x; %tensorflow_version has no effect.\n",
            "Found GPU at: /device:GPU:0\n"
          ]
        }
      ]
    },
    {
      "cell_type": "markdown",
      "source": [
        "# 1. Import Modules"
      ],
      "metadata": {
        "id": "m9ji8C71N3bT"
      }
    },
    {
      "cell_type": "code",
      "source": [
        "import numpy as np\n",
        "import matplotlib.pylab as plt\n",
        "import itertools\n",
        "import sklearn\n",
        "from sklearn import model_selection\n",
        "from sklearn.model_selection import train_test_split, KFold, cross_val_score, StratifiedKFold, learning_curve, GridSearchCV\n",
        "from sklearn.metrics import confusion_matrix, make_scorer, accuracy_score\n",
        "\n",
        "# import keras\n",
        "# from keras import backend as K\n",
        "from tensorflow.keras import layers, models\n",
        "from tensorflow.keras.callbacks import Callback, EarlyStopping, ReduceLROnPlateau, ModelCheckpoint\n",
        "from tensorflow.keras.preprocessing.image import ImageDataGenerator\n",
        "from tensorflow.keras.utils import to_categorical\n",
        "from tensorflow.keras.models import Sequential, model_from_json\n",
        "# from keras.optimizers import SGD, RMSprop, Adam, Adagrad, Adadelta\n",
        "from tensorflow.keras.optimizers import SGD, RMSprop, Adam, Adagrad, Adadelta\n",
        "from tensorflow.keras.layers import Dense, Dropout, Activation, Flatten, BatchNormalization, Conv2D, MaxPool2D, MaxPooling2D, SeparableConv2D\n"
      ],
      "metadata": {
        "id": "eWJE9wq7MpTX"
      },
      "execution_count": null,
      "outputs": []
    },
    {
      "cell_type": "markdown",
      "source": [
        "# 2. Cancernet 모델"
      ],
      "metadata": {
        "id": "4KCEuVaZMbpa"
      }
    },
    {
      "cell_type": "code",
      "source": [
        "def build_model():\n",
        "  model = Sequential()\n",
        "  inputShape = (50, 50, 3)\n",
        "\n",
        "  # CONV => RELU => POOL\n",
        "  model.add(SeparableConv2D(32, (3, 3), padding=\"same\",\n",
        "    input_shape=inputShape, kernel_regularizer = 'l2'))\n",
        "  model.add(Activation(\"relu\"))\n",
        "  model.add(BatchNormalization())\n",
        "  model.add(MaxPooling2D(pool_size=(2, 2)))\n",
        "\n",
        "  # (CONV => RELU => POOL) * 2\n",
        "  model.add(SeparableConv2D(64, (3, 3), padding=\"same\", kernel_regularizer = 'l2'))\n",
        "  model.add(Activation(\"relu\"))\n",
        "  model.add(BatchNormalization())\n",
        "  model.add(SeparableConv2D(64, (3, 3), padding=\"same\", kernel_regularizer = 'l2'))\n",
        "  model.add(Activation(\"relu\"))\n",
        "  model.add(BatchNormalization())\n",
        "  model.add(MaxPooling2D(pool_size=(2, 2)))\n",
        "\n",
        "  # (CONV => RELU => POOL) * 3\n",
        "  model.add(SeparableConv2D(128, (3, 3), padding=\"same\", kernel_regularizer = 'l2'))\n",
        "  model.add(Activation(\"relu\"))\n",
        "  model.add(BatchNormalization())\n",
        "  model.add(SeparableConv2D(128, (3, 3), padding=\"same\", kernel_regularizer = 'l2'))\n",
        "  model.add(Activation(\"relu\"))\n",
        "  model.add(BatchNormalization())\n",
        "  model.add(SeparableConv2D(128, (3, 3), padding=\"same\", kernel_regularizer = 'l2'))\n",
        "  model.add(Activation(\"relu\"))\n",
        "  model.add(BatchNormalization())\n",
        "  model.add(MaxPooling2D(pool_size=(2, 2)))\n",
        "\n",
        "  # (CONV => RELU => POOL) * 4\n",
        "  model.add(SeparableConv2D(256, (3, 3), padding=\"same\", kernel_regularizer = 'l2'))\n",
        "  model.add(Activation(\"relu\"))\n",
        "  model.add(BatchNormalization())\n",
        "  model.add(SeparableConv2D(256, (3, 3), padding=\"same\", kernel_regularizer = 'l2'))\n",
        "  model.add(Activation(\"relu\"))\n",
        "  model.add(BatchNormalization())\n",
        "  model.add(SeparableConv2D(256, (3, 3), padding=\"same\", kernel_regularizer = 'l2'))\n",
        "  model.add(Activation(\"relu\"))\n",
        "  model.add(BatchNormalization())\n",
        "  model.add(SeparableConv2D(256, (3, 3), padding=\"same\", kernel_regularizer = 'l2'))\n",
        "  model.add(Activation(\"relu\"))\n",
        "  model.add(BatchNormalization())\n",
        "  model.add(MaxPooling2D(pool_size=(2, 2)))\n",
        "\n",
        "  # first (and only) set of FC => RELU layers\n",
        "  model.add(Flatten())\n",
        "  model.add(Dense(256))\n",
        "  model.add(Activation(\"relu\"))\n",
        "  model.add(BatchNormalization())\n",
        "  model.add(Dropout(0.5))\n",
        "\n",
        "  # softmax classifier\n",
        "  model.add(Dense(2))\n",
        "  model.add(Activation(\"softmax\"))\n",
        "\n",
        "  return model"
      ],
      "metadata": {
        "id": "su1WnDz0LbAo"
      },
      "execution_count": null,
      "outputs": []
    },
    {
      "cell_type": "markdown",
      "source": [
        "# 3. 데이터 불러오기"
      ],
      "metadata": {
        "id": "qPEbFT0GMsvw"
      }
    },
    {
      "cell_type": "code",
      "source": [
        "X = np.load('/content/drive/MyDrive/b_cancer/X.npy') # images\n",
        "Y = np.load('/content/drive/MyDrive/b_cancer/Y.npy') # labels associated to images (0 = no IDC, 1 = IDC)"
      ],
      "metadata": {
        "id": "6P7ccXWDMrY8"
      },
      "execution_count": null,
      "outputs": []
    },
    {
      "cell_type": "code",
      "source": [
        "# X_train, X_test, y_train, y_test = train_test_split(X, Y, test_size=0.2)\n",
        "# X_train, X_val, y_train, y_val = train_test_split(X_train, y_train, test_size=0.2)\n",
        "\n",
        "X_train, X_test, y_train, y_test = train_test_split(X, Y, test_size=0.3)"
      ],
      "metadata": {
        "id": "bzmR9NCCDdov"
      },
      "execution_count": null,
      "outputs": []
    },
    {
      "cell_type": "code",
      "source": [
        "# 0과 1 사이로 스케일 조정\n",
        "\n",
        "X_train = X_train / 255.0\n",
        "# X_val = X_val / 255.0\n",
        "X_test = X_test / 255.0"
      ],
      "metadata": {
        "id": "YSGVsZESGZNe"
      },
      "execution_count": null,
      "outputs": []
    },
    {
      "cell_type": "code",
      "source": [
        "y_train = to_categorical(y_train, num_classes = 2)\n",
        "# y_val = to_categorical(y_val, num_classes = 2)\n",
        "y_test = to_categorical(y_test, num_classes = 2)"
      ],
      "metadata": {
        "id": "t0yckBPMGfxh"
      },
      "execution_count": null,
      "outputs": []
    },
    {
      "cell_type": "markdown",
      "source": [
        "#### 클래스 가중치 계산"
      ],
      "metadata": {
        "id": "GJzecSOONMWW"
      }
    },
    {
      "cell_type": "code",
      "source": [
        "classTotals = y_train.sum(axis=0)\n",
        "classTotals"
      ],
      "metadata": {
        "colab": {
          "base_uri": "https://localhost:8080/"
        },
        "id": "choUlqEqGz_1",
        "outputId": "d34cd5ca-93d6-4002-fab1-c76d9f1849f8"
      },
      "execution_count": null,
      "outputs": [
        {
          "output_type": "execute_result",
          "data": {
            "text/plain": [
              "array([1928., 1954.], dtype=float32)"
            ]
          },
          "metadata": {},
          "execution_count": 9
        }
      ]
    },
    {
      "cell_type": "code",
      "source": [
        "# loop over all classes and calculate the class weight\n",
        "classWeight = dict()\n",
        "\n",
        "for i in range(0, len(classTotals)):\n",
        "  classWeight[i] = classTotals.max() / classTotals[i]\n",
        "\n",
        "classWeight"
      ],
      "metadata": {
        "colab": {
          "base_uri": "https://localhost:8080/"
        },
        "id": "4MRq811vKYsV",
        "outputId": "3017dbf3-6c0b-4b10-b14c-6cc2719638e7"
      },
      "execution_count": null,
      "outputs": [
        {
          "output_type": "execute_result",
          "data": {
            "text/plain": [
              "{0: 1.0134854, 1: 1.0}"
            ]
          },
          "metadata": {},
          "execution_count": 10
        }
      ]
    },
    {
      "cell_type": "markdown",
      "source": [
        "# 5. 모델 컴파일하고 학습 시작"
      ],
      "metadata": {
        "id": "NeFFhThDNq-G"
      }
    },
    {
      "cell_type": "code",
      "source": [
        "with tf.device('/device:GPU:0'):\n",
        "  NUM_EPOCHS = 40\n",
        "  INIT_LR = 1e-2\n",
        "  BS = 32\n",
        "  \n",
        "  opt = Adagrad(learning_rate=INIT_LR, decay=INIT_LR / NUM_EPOCHS)\n",
        "  \n",
        "  cancernet = build_model()\n",
        "  cancernet.compile(loss=\"binary_crossentropy\", optimizer=opt, metrics=[\"accuracy\"])\n",
        "\n",
        "  H = cancernet.fit(X_train, y_train, \n",
        "                validation_data = (X_test, y_test),\n",
        "                class_weight = classWeight,\n",
        "                epochs = NUM_EPOCHS)"
      ],
      "metadata": {
        "colab": {
          "base_uri": "https://localhost:8080/"
        },
        "id": "3agw_3k-ydkg",
        "outputId": "3e3d69ce-c552-462a-db6f-b5d5e9ae9268"
      },
      "execution_count": null,
      "outputs": [
        {
          "output_type": "stream",
          "name": "stdout",
          "text": [
            "Epoch 1/40\n",
            "122/122 [==============================] - 16s 23ms/step - loss: 0.7045 - accuracy: 0.7102 - val_loss: 0.6963 - val_accuracy: 0.5009\n",
            "Epoch 2/40\n",
            "122/122 [==============================] - 2s 18ms/step - loss: 0.5951 - accuracy: 0.7607 - val_loss: 0.7147 - val_accuracy: 0.5009\n",
            "Epoch 3/40\n",
            "122/122 [==============================] - 2s 17ms/step - loss: 0.5388 - accuracy: 0.7741 - val_loss: 0.7671 - val_accuracy: 0.5009\n",
            "Epoch 4/40\n",
            "122/122 [==============================] - 2s 16ms/step - loss: 0.5080 - accuracy: 0.7895 - val_loss: 0.9652 - val_accuracy: 0.5009\n",
            "Epoch 5/40\n",
            "122/122 [==============================] - 2s 16ms/step - loss: 0.4623 - accuracy: 0.8081 - val_loss: 0.7698 - val_accuracy: 0.5429\n",
            "Epoch 6/40\n",
            "122/122 [==============================] - 2s 19ms/step - loss: 0.4245 - accuracy: 0.8266 - val_loss: 0.5279 - val_accuracy: 0.7489\n",
            "Epoch 7/40\n",
            "122/122 [==============================] - 2s 18ms/step - loss: 0.3896 - accuracy: 0.8457 - val_loss: 0.5525 - val_accuracy: 0.7369\n",
            "Epoch 8/40\n",
            "122/122 [==============================] - 2s 15ms/step - loss: 0.3436 - accuracy: 0.8612 - val_loss: 0.6236 - val_accuracy: 0.7075\n",
            "Epoch 9/40\n",
            "122/122 [==============================] - 2s 15ms/step - loss: 0.2746 - accuracy: 0.8962 - val_loss: 0.6188 - val_accuracy: 0.7237\n",
            "Epoch 10/40\n",
            "122/122 [==============================] - 2s 15ms/step - loss: 0.2225 - accuracy: 0.9191 - val_loss: 0.7561 - val_accuracy: 0.6871\n",
            "Epoch 11/40\n",
            "122/122 [==============================] - 2s 16ms/step - loss: 0.1572 - accuracy: 0.9459 - val_loss: 0.8111 - val_accuracy: 0.6787\n",
            "Epoch 12/40\n",
            "122/122 [==============================] - 2s 16ms/step - loss: 0.1155 - accuracy: 0.9634 - val_loss: 0.8429 - val_accuracy: 0.7357\n",
            "Epoch 13/40\n",
            "122/122 [==============================] - 2s 15ms/step - loss: 0.0797 - accuracy: 0.9791 - val_loss: 0.8316 - val_accuracy: 0.7459\n",
            "Epoch 14/40\n",
            "122/122 [==============================] - 2s 15ms/step - loss: 0.0608 - accuracy: 0.9861 - val_loss: 0.9984 - val_accuracy: 0.6571\n",
            "Epoch 15/40\n",
            "122/122 [==============================] - 2s 15ms/step - loss: 0.0645 - accuracy: 0.9820 - val_loss: 0.8788 - val_accuracy: 0.7393\n",
            "Epoch 16/40\n",
            "122/122 [==============================] - 2s 15ms/step - loss: 0.0473 - accuracy: 0.9884 - val_loss: 0.9302 - val_accuracy: 0.7538\n",
            "Epoch 17/40\n",
            "122/122 [==============================] - 2s 16ms/step - loss: 0.0357 - accuracy: 0.9907 - val_loss: 0.9707 - val_accuracy: 0.7345\n",
            "Epoch 18/40\n",
            "122/122 [==============================] - 2s 16ms/step - loss: 0.0267 - accuracy: 0.9951 - val_loss: 0.9497 - val_accuracy: 0.7465\n",
            "Epoch 19/40\n",
            "122/122 [==============================] - 2s 15ms/step - loss: 0.0222 - accuracy: 0.9954 - val_loss: 0.9750 - val_accuracy: 0.7435\n",
            "Epoch 20/40\n",
            "122/122 [==============================] - 2s 15ms/step - loss: 0.0211 - accuracy: 0.9956 - val_loss: 1.7332 - val_accuracy: 0.5748\n",
            "Epoch 21/40\n",
            "122/122 [==============================] - 2s 15ms/step - loss: 0.0262 - accuracy: 0.9946 - val_loss: 0.9827 - val_accuracy: 0.7411\n",
            "Epoch 22/40\n",
            "122/122 [==============================] - 2s 15ms/step - loss: 0.0250 - accuracy: 0.9954 - val_loss: 1.5812 - val_accuracy: 0.6402\n",
            "Epoch 23/40\n",
            "122/122 [==============================] - 2s 16ms/step - loss: 0.0298 - accuracy: 0.9936 - val_loss: 1.1119 - val_accuracy: 0.7021\n",
            "Epoch 24/40\n",
            "122/122 [==============================] - 2s 15ms/step - loss: 0.0228 - accuracy: 0.9956 - val_loss: 1.0447 - val_accuracy: 0.7255\n",
            "Epoch 25/40\n",
            "122/122 [==============================] - 2s 15ms/step - loss: 0.0134 - accuracy: 0.9987 - val_loss: 1.0895 - val_accuracy: 0.7580\n",
            "Epoch 26/40\n",
            "122/122 [==============================] - 2s 16ms/step - loss: 0.0189 - accuracy: 0.9956 - val_loss: 1.1541 - val_accuracy: 0.7580\n",
            "Epoch 27/40\n",
            "122/122 [==============================] - 2s 16ms/step - loss: 0.0142 - accuracy: 0.9985 - val_loss: 1.0468 - val_accuracy: 0.7375\n",
            "Epoch 28/40\n",
            "122/122 [==============================] - 2s 15ms/step - loss: 0.0152 - accuracy: 0.9964 - val_loss: 1.8545 - val_accuracy: 0.5814\n",
            "Epoch 29/40\n",
            "122/122 [==============================] - 2s 16ms/step - loss: 0.0155 - accuracy: 0.9961 - val_loss: 1.0977 - val_accuracy: 0.7453\n",
            "Epoch 30/40\n",
            "122/122 [==============================] - 2s 16ms/step - loss: 0.0151 - accuracy: 0.9972 - val_loss: 1.1043 - val_accuracy: 0.7297\n",
            "Epoch 31/40\n",
            "122/122 [==============================] - 2s 15ms/step - loss: 0.0095 - accuracy: 0.9990 - val_loss: 1.0974 - val_accuracy: 0.7447\n",
            "Epoch 32/40\n",
            "122/122 [==============================] - 2s 15ms/step - loss: 0.0090 - accuracy: 0.9985 - val_loss: 1.1228 - val_accuracy: 0.7495\n",
            "Epoch 33/40\n",
            "122/122 [==============================] - 2s 16ms/step - loss: 0.0089 - accuracy: 0.9987 - val_loss: 1.5780 - val_accuracy: 0.7039\n",
            "Epoch 34/40\n",
            "122/122 [==============================] - 2s 16ms/step - loss: 0.0166 - accuracy: 0.9956 - val_loss: 1.1937 - val_accuracy: 0.7147\n",
            "Epoch 35/40\n",
            "122/122 [==============================] - 2s 15ms/step - loss: 0.0118 - accuracy: 0.9977 - val_loss: 1.1410 - val_accuracy: 0.7429\n",
            "Epoch 36/40\n",
            "122/122 [==============================] - 2s 16ms/step - loss: 0.0092 - accuracy: 0.9985 - val_loss: 1.0899 - val_accuracy: 0.7447\n",
            "Epoch 37/40\n",
            "122/122 [==============================] - 2s 16ms/step - loss: 0.0075 - accuracy: 0.9995 - val_loss: 1.1151 - val_accuracy: 0.7441\n",
            "Epoch 38/40\n",
            "122/122 [==============================] - 2s 15ms/step - loss: 0.0141 - accuracy: 0.9972 - val_loss: 1.1274 - val_accuracy: 0.7315\n",
            "Epoch 39/40\n",
            "122/122 [==============================] - 2s 15ms/step - loss: 0.0098 - accuracy: 0.9987 - val_loss: 1.1265 - val_accuracy: 0.7556\n",
            "Epoch 40/40\n",
            "122/122 [==============================] - 2s 15ms/step - loss: 0.0074 - accuracy: 0.9982 - val_loss: 1.2262 - val_accuracy: 0.7357\n"
          ]
        }
      ]
    },
    {
      "cell_type": "code",
      "source": [
        "history_dict = H.history\n",
        "\n",
        "loss = history_dict['loss']\n",
        "val_loss = history_dict['val_loss']\n",
        "\n",
        "acc = history_dict['accuracy']\n",
        "val_acc = history_dict['val_accuracy']\n",
        "\n",
        "epochs = range(1, len(acc)+1)\n",
        "\n",
        "plt.figure(figsize=(15,5))\n",
        "\n",
        "plt.subplot(121)\n",
        "plt.plot(epochs, loss, 'bo', label='Training loss')\n",
        "plt.plot(epochs, val_loss, 'b', label='Validation loss')\n",
        "plt.title('Training and validation loss')\n",
        "plt.xlabel('Epochs')\n",
        "plt.ylabel('Loss')\n",
        "plt.legend()\n",
        "\n",
        "plt.subplot(122)\n",
        "plt.plot(epochs, acc, 'bo', label='Training acc')\n",
        "plt.plot(epochs, val_acc, 'b', label='Validation acc')\n",
        "plt.title('Training and validation accuary')\n",
        "plt.xlabel('Epochs')\n",
        "plt.ylabel('Accuracy')\n",
        "plt.legend()\n",
        "\n",
        "plt.show()"
      ],
      "metadata": {
        "id": "DWYm6mZXy3bS",
        "colab": {
          "base_uri": "https://localhost:8080/",
          "height": 350
        },
        "outputId": "4626237b-fef7-4519-b5da-31527da8729e"
      },
      "execution_count": null,
      "outputs": [
        {
          "output_type": "display_data",
          "data": {
            "text/plain": [
              "<Figure size 1080x360 with 2 Axes>"
            ],
            "image/png": "[encoded data removed]"
          },
          "metadata": {
            "needs_background": "light"
          }
        }
      ]
    }
  ]
}