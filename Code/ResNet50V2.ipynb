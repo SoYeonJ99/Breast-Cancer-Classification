{
  "nbformat": 4,
  "nbformat_minor": 0,
  "metadata": {
    "colab": {
      "provenance": [],
      "collapsed_sections": []
    },
    "kernelspec": {
      "name": "python3",
      "display_name": "Python 3"
    },
    "language_info": {
      "name": "python"
    },
    "accelerator": "GPU",
    "gpuClass": "standard"
  },
  "cells": [
    {
      "cell_type": "code",
      "source": [
        "%tensorflow_version 2.x\n",
        "import tensorflow as tf\n",
        "device_name = tf.test.gpu_device_name()\n",
        "if device_name != '/device:GPU:0':\n",
        "  raise SystemError('GPU device not found')\n",
        "print('Found GPU at: {}'.format(device_name))"
      ],
      "metadata": {
        "colab": {
          "base_uri": "https://localhost:8080/"
        },
        "id": "QFe6vVYE0gWR",
        "outputId": "257921ff-b81f-4ae7-bdb3-5d98f4f994df"
      },
      "execution_count": null,
      "outputs": [
        {
          "output_type": "stream",
          "name": "stdout",
          "text": [
            "Colab only includes TensorFlow 2.x; %tensorflow_version has no effect.\n",
            "Found GPU at: /device:GPU:0\n"
          ]
        }
      ]
    },
    {
      "cell_type": "code",
      "source": [
        "import numpy as np\n",
        "import matplotlib.pylab as plt\n",
        "import itertools\n",
        "import sklearn\n",
        "from sklearn import model_selection\n",
        "from sklearn.model_selection import train_test_split, KFold, cross_val_score, StratifiedKFold, learning_curve, GridSearchCV\n",
        "from sklearn.metrics import confusion_matrix, make_scorer, accuracy_score\n",
        "\n",
        "# import keras\n",
        "# from keras import backend as K\n",
        "from tensorflow.keras import layers, models\n",
        "from tensorflow.keras.callbacks import Callback, EarlyStopping, ReduceLROnPlateau, ModelCheckpoint\n",
        "from tensorflow.keras.preprocessing.image import ImageDataGenerator\n",
        "from tensorflow.keras.utils import to_categorical\n",
        "from tensorflow.keras.models import Sequential, model_from_json\n",
        "# from keras.optimizers import SGD, RMSprop, Adam, Adagrad, Adadelta\n",
        "from tensorflow.keras.optimizers import SGD, RMSprop, Adam, Adagrad, Adadelta\n",
        "from tensorflow.keras.layers import Dense, Dropout, Activation, Flatten, BatchNormalization, Conv2D, MaxPool2D, MaxPooling2D, SeparableConv2D\n"
      ],
      "metadata": {
        "id": "eWJE9wq7MpTX"
      },
      "execution_count": null,
      "outputs": []
    },
    {
      "cell_type": "code",
      "source": [
        "X = np.load('/content/drive/MyDrive/b_cancer/X.npy') # images\n",
        "Y = np.load('/content/drive/MyDrive/b_cancer/Y.npy') # labels associated to images (0 = no IDC, 1 = IDC)"
      ],
      "metadata": {
        "id": "6P7ccXWDMrY8"
      },
      "execution_count": null,
      "outputs": []
    },
    {
      "cell_type": "code",
      "source": [
        "X_train, X_test, y_train, y_test = train_test_split(X, Y, test_size=0.3)"
      ],
      "metadata": {
        "id": "bzmR9NCCDdov"
      },
      "execution_count": null,
      "outputs": []
    },
    {
      "cell_type": "code",
      "source": [
        "# 0과 1 사이로 스케일 조정\n",
        "\n",
        "X_train = X_train / 255.0\n",
        "X_test = X_test / 255.0"
      ],
      "metadata": {
        "id": "YSGVsZESGZNe"
      },
      "execution_count": null,
      "outputs": []
    },
    {
      "cell_type": "code",
      "source": [
        "y_train = to_categorical(y_train, num_classes = 2)\n",
        "y_test = to_categorical(y_test, num_classes = 2)"
      ],
      "metadata": {
        "id": "t0yckBPMGfxh"
      },
      "execution_count": null,
      "outputs": []
    },
    {
      "cell_type": "code",
      "source": [
        "from keras.applications.resnet_v2 import ResNet50V2\n",
        "\n",
        "img_shape = (50, 50, 3)\n",
        "\n",
        "with tf.device('/device:GPU:0'):\n",
        "  base_model = tf.keras.applications.resnet_v2.ResNet50V2(input_shape=img_shape, include_top=False, classes=2)\n",
        "\n",
        "  model = Sequential(base_model)\n",
        "  model.add(Flatten())\n",
        "  model.add(Dense(256))\n",
        "  model.add(Activation(\"relu\"))\n",
        "  model.add(BatchNormalization())\n",
        " \n",
        "  # softmax classifier\n",
        "  model.add(Dense(2))\n",
        "  model.add(Activation(\"softmax\"))"
      ],
      "metadata": {
        "colab": {
          "base_uri": "https://localhost:8080/"
        },
        "id": "xI0jOJq-VDeB",
        "outputId": "e82c6c69-dfec-4b22-bcbf-0164fe7476db"
      },
      "execution_count": null,
      "outputs": [
        {
          "output_type": "stream",
          "name": "stdout",
          "text": [
            "Downloading data from https://storage.googleapis.com/tensorflow/keras-applications/resnet/resnet50v2_weights_tf_dim_ordering_tf_kernels_notop.h5\n",
            "94674944/94668760 [==============================] - 1s 0us/step\n",
            "94683136/94668760 [==============================] - 1s 0us/step\n"
          ]
        }
      ]
    },
    {
      "cell_type": "code",
      "source": [
        "model.summary()"
      ],
      "metadata": {
        "colab": {
          "base_uri": "https://localhost:8080/"
        },
        "id": "SgXlKaCcXlpN",
        "outputId": "9862b88c-8a66-4f67-db08-7157cee393de"
      },
      "execution_count": null,
      "outputs": [
        {
          "output_type": "stream",
          "name": "stdout",
          "text": [
            "Model: \"sequential\"\n",
            "_________________________________________________________________\n",
            " Layer (type)                Output Shape              Param #   \n",
            "=================================================================\n",
            " resnet50v2 (Functional)     (None, 2, 2, 2048)        23564800  \n",
            "                                                                 \n",
            " flatten (Flatten)           (None, 8192)              0         \n",
            "                                                                 \n",
            " dense (Dense)               (None, 256)               2097408   \n",
            "                                                                 \n",
            " activation (Activation)     (None, 256)               0         \n",
            "                                                                 \n",
            " batch_normalization (BatchN  (None, 256)              1024      \n",
            " ormalization)                                                   \n",
            "                                                                 \n",
            " dense_1 (Dense)             (None, 2)                 514       \n",
            "                                                                 \n",
            " activation_1 (Activation)   (None, 2)                 0         \n",
            "                                                                 \n",
            "=================================================================\n",
            "Total params: 25,663,746\n",
            "Trainable params: 25,617,794\n",
            "Non-trainable params: 45,952\n",
            "_________________________________________________________________\n"
          ]
        }
      ]
    },
    {
      "cell_type": "code",
      "source": [
        "with tf.device('/device:GPU:0'):\n",
        "  NUM_EPOCHS = 40\n",
        "  INIT_LR = 1e-2\n",
        "  BS = 128\n",
        "  opt = Adam(learning_rate=INIT_LR)\n",
        "  model.compile(loss=\"categorical_crossentropy\", optimizer=opt, metrics=[\"accuracy\"])\n",
        "\n",
        "  H = model.fit(X_train, y_train,\n",
        "                batch_size = BS,\n",
        "                verbose = 1,\n",
        "                validation_data = (X_test, y_test),\n",
        "                epochs = NUM_EPOCHS)"
      ],
      "metadata": {
        "colab": {
          "base_uri": "https://localhost:8080/"
        },
        "id": "M3aHS81qHTac",
        "outputId": "eb6c395a-0e69-4f4d-b024-9c4dc729511e"
      },
      "execution_count": null,
      "outputs": [
        {
          "output_type": "stream",
          "name": "stdout",
          "text": [
            "Epoch 1/40\n",
            "31/31 [==============================] - 26s 226ms/step - loss: 0.9683 - accuracy: 0.5085 - val_loss: 17927711037063168.0000 - val_accuracy: 0.4865\n",
            "Epoch 2/40\n",
            "31/31 [==============================] - 4s 128ms/step - loss: 0.7575 - accuracy: 0.5033 - val_loss: 570840896.0000 - val_accuracy: 0.4865\n",
            "Epoch 3/40\n",
            "31/31 [==============================] - 4s 121ms/step - loss: 0.7251 - accuracy: 0.5046 - val_loss: 59832.8438 - val_accuracy: 0.5135\n",
            "Epoch 4/40\n",
            "31/31 [==============================] - 4s 122ms/step - loss: 0.7296 - accuracy: 0.5054 - val_loss: 3.1229 - val_accuracy: 0.4853\n",
            "Epoch 5/40\n",
            "31/31 [==============================] - 4s 130ms/step - loss: 0.7264 - accuracy: 0.5075 - val_loss: 2.6594 - val_accuracy: 0.5135\n",
            "Epoch 6/40\n",
            "31/31 [==============================] - 4s 124ms/step - loss: 0.7362 - accuracy: 0.5160 - val_loss: 0.9218 - val_accuracy: 0.5153\n",
            "Epoch 7/40\n",
            "31/31 [==============================] - 4s 126ms/step - loss: 0.7459 - accuracy: 0.5121 - val_loss: 1.7229 - val_accuracy: 0.4847\n",
            "Epoch 8/40\n",
            "31/31 [==============================] - 4s 125ms/step - loss: 0.7225 - accuracy: 0.5095 - val_loss: 1.0363 - val_accuracy: 0.5135\n",
            "Epoch 9/40\n",
            "31/31 [==============================] - 4s 125ms/step - loss: 0.7151 - accuracy: 0.5286 - val_loss: 0.7264 - val_accuracy: 0.5135\n",
            "Epoch 10/40\n",
            "31/31 [==============================] - 4s 125ms/step - loss: 0.6901 - accuracy: 0.5294 - val_loss: 0.6929 - val_accuracy: 0.5135\n",
            "Epoch 11/40\n",
            "31/31 [==============================] - 4s 125ms/step - loss: 0.6981 - accuracy: 0.5219 - val_loss: 0.6932 - val_accuracy: 0.4865\n",
            "Epoch 12/40\n",
            "31/31 [==============================] - 4s 124ms/step - loss: 0.7183 - accuracy: 0.5183 - val_loss: 0.8884 - val_accuracy: 0.4925\n",
            "Epoch 13/40\n",
            "31/31 [==============================] - 4s 124ms/step - loss: 0.7027 - accuracy: 0.5124 - val_loss: 0.6940 - val_accuracy: 0.5135\n",
            "Epoch 14/40\n",
            "31/31 [==============================] - 4s 123ms/step - loss: 0.6974 - accuracy: 0.5167 - val_loss: 0.6938 - val_accuracy: 0.4865\n",
            "Epoch 15/40\n",
            "31/31 [==============================] - 4s 128ms/step - loss: 0.6933 - accuracy: 0.5255 - val_loss: 0.7304 - val_accuracy: 0.5075\n",
            "Epoch 16/40\n",
            "31/31 [==============================] - 4s 122ms/step - loss: 0.6783 - accuracy: 0.5644 - val_loss: 0.6920 - val_accuracy: 0.5093\n",
            "Epoch 17/40\n",
            "31/31 [==============================] - 4s 130ms/step - loss: 0.6829 - accuracy: 0.5698 - val_loss: 0.7227 - val_accuracy: 0.5742\n",
            "Epoch 18/40\n",
            "31/31 [==============================] - 4s 129ms/step - loss: 0.6770 - accuracy: 0.5809 - val_loss: 1.2879 - val_accuracy: 0.5934\n",
            "Epoch 19/40\n",
            "31/31 [==============================] - 4s 122ms/step - loss: 0.6137 - accuracy: 0.6852 - val_loss: 0.7392 - val_accuracy: 0.6979\n",
            "Epoch 20/40\n",
            "31/31 [==============================] - 4s 121ms/step - loss: 0.5869 - accuracy: 0.7208 - val_loss: 1.5019 - val_accuracy: 0.5141\n",
            "Epoch 21/40\n",
            "31/31 [==============================] - 4s 122ms/step - loss: 0.5410 - accuracy: 0.7537 - val_loss: 0.5784 - val_accuracy: 0.7243\n",
            "Epoch 22/40\n",
            "31/31 [==============================] - 4s 122ms/step - loss: 0.5435 - accuracy: 0.7555 - val_loss: 0.7991 - val_accuracy: 0.7393\n",
            "Epoch 23/40\n",
            "31/31 [==============================] - 4s 124ms/step - loss: 0.5271 - accuracy: 0.7584 - val_loss: 2200.3027 - val_accuracy: 0.5219\n",
            "Epoch 24/40\n",
            "31/31 [==============================] - 4s 122ms/step - loss: 0.5482 - accuracy: 0.7625 - val_loss: 59.9708 - val_accuracy: 0.5039\n",
            "Epoch 25/40\n",
            "31/31 [==============================] - 4s 122ms/step - loss: 0.5251 - accuracy: 0.7697 - val_loss: 1115.9080 - val_accuracy: 0.5423\n",
            "Epoch 26/40\n",
            "31/31 [==============================] - 4s 123ms/step - loss: 0.5108 - accuracy: 0.7715 - val_loss: 171.0581 - val_accuracy: 0.6739\n",
            "Epoch 27/40\n",
            "31/31 [==============================] - 4s 123ms/step - loss: 0.5185 - accuracy: 0.7720 - val_loss: 55.0266 - val_accuracy: 0.5093\n",
            "Epoch 28/40\n",
            "31/31 [==============================] - 4s 123ms/step - loss: 0.5288 - accuracy: 0.7684 - val_loss: 10.8923 - val_accuracy: 0.6961\n",
            "Epoch 29/40\n",
            "31/31 [==============================] - 4s 124ms/step - loss: 0.5328 - accuracy: 0.7537 - val_loss: 13.9100 - val_accuracy: 0.6048\n",
            "Epoch 30/40\n",
            "31/31 [==============================] - 4s 125ms/step - loss: 0.5095 - accuracy: 0.7749 - val_loss: 4.4128 - val_accuracy: 0.7045\n",
            "Epoch 31/40\n",
            "31/31 [==============================] - 4s 123ms/step - loss: 0.4945 - accuracy: 0.7816 - val_loss: 0.8321 - val_accuracy: 0.7682\n",
            "Epoch 32/40\n",
            "31/31 [==============================] - 4s 130ms/step - loss: 0.4885 - accuracy: 0.7816 - val_loss: 0.4811 - val_accuracy: 0.7778\n",
            "Epoch 33/40\n",
            "31/31 [==============================] - 4s 130ms/step - loss: 0.4804 - accuracy: 0.7844 - val_loss: 0.5980 - val_accuracy: 0.7303\n",
            "Epoch 34/40\n",
            "31/31 [==============================] - 4s 124ms/step - loss: 0.4783 - accuracy: 0.7893 - val_loss: 0.4636 - val_accuracy: 0.7862\n",
            "Epoch 35/40\n",
            "31/31 [==============================] - 4s 123ms/step - loss: 0.4705 - accuracy: 0.7911 - val_loss: 0.6599 - val_accuracy: 0.6997\n",
            "Epoch 36/40\n",
            "31/31 [==============================] - 4s 123ms/step - loss: 0.4736 - accuracy: 0.7852 - val_loss: 0.5547 - val_accuracy: 0.7495\n",
            "Epoch 37/40\n",
            "31/31 [==============================] - 4s 131ms/step - loss: 0.4688 - accuracy: 0.7854 - val_loss: 0.4809 - val_accuracy: 0.7850\n",
            "Epoch 38/40\n",
            "31/31 [==============================] - 4s 123ms/step - loss: 0.4666 - accuracy: 0.7854 - val_loss: 0.6210 - val_accuracy: 0.7219\n",
            "Epoch 39/40\n",
            "31/31 [==============================] - 4s 123ms/step - loss: 0.4711 - accuracy: 0.7903 - val_loss: 0.5182 - val_accuracy: 0.7652\n",
            "Epoch 40/40\n",
            "31/31 [==============================] - 4s 123ms/step - loss: 0.4629 - accuracy: 0.7919 - val_loss: 0.8541 - val_accuracy: 0.6444\n"
          ]
        }
      ]
    }
  ]
}