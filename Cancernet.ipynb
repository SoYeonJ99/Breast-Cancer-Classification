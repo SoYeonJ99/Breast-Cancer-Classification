{
  "nbformat": 4,
  "nbformat_minor": 0,
  "metadata": {
    "colab": {
      "provenance": [],
      "collapsed_sections": [],
      "mount_file_id": "1e6Ekz6gtgM862Jxz2jf0H5MRhQL1UxBL",
      "authorship_tag": "ABX9TyOkssKNLol3lwWz1v4yeOZ/",
      "include_colab_link": true
    },
    "kernelspec": {
      "name": "python3",
      "display_name": "Python 3"
    },
    "language_info": {
      "name": "python"
    },
    "accelerator": "GPU",
    "gpuClass": "standard"
  },
  "cells": [
    {
      "cell_type": "markdown",
      "metadata": {
        "id": "view-in-github",
        "colab_type": "text"
      },
      "source": [
        "<a href=\"https://colab.research.google.com/github/SoYeonJ99/Breast-Cancer-Classification/blob/main/Cancernet.ipynb\" target=\"_parent\"><img src=\"https://colab.research.google.com/assets/colab-badge.svg\" alt=\"Open In Colab\"/></a>"
      ]
    },
    {
      "cell_type": "code",
      "source": [
        "%tensorflow_version 2.x\n",
        "import tensorflow as tf\n",
        "device_name = tf.test.gpu_device_name()\n",
        "if device_name != '/device:GPU:0':\n",
        "  raise SystemError('GPU device not found')\n",
        "print('Found GPU at: {}'.format(device_name))"
      ],
      "metadata": {
        "colab": {
          "base_uri": "https://localhost:8080/"
        },
        "id": "QFe6vVYE0gWR",
        "outputId": "4180865d-b7c3-4ebb-d064-34b770a292f8"
      },
      "execution_count": null,
      "outputs": [
        {
          "output_type": "stream",
          "name": "stdout",
          "text": [
            "Colab only includes TensorFlow 2.x; %tensorflow_version has no effect.\n",
            "Found GPU at: /device:GPU:0\n"
          ]
        }
      ]
    },
    {
      "cell_type": "markdown",
      "source": [
        "# 1. Import Modules"
      ],
      "metadata": {
        "id": "m9ji8C71N3bT"
      }
    },
    {
      "cell_type": "code",
      "source": [
        "import numpy as np\n",
        "import matplotlib.pylab as plt\n",
        "import itertools\n",
        "import sklearn\n",
        "from sklearn import model_selection\n",
        "from sklearn.model_selection import train_test_split, KFold, cross_val_score, StratifiedKFold, learning_curve, GridSearchCV\n",
        "from sklearn.metrics import confusion_matrix, make_scorer, accuracy_score\n",
        "\n",
        "# import keras\n",
        "# from keras import backend as K\n",
        "from tensorflow.keras import layers, models\n",
        "from tensorflow.keras.callbacks import Callback, EarlyStopping, ReduceLROnPlateau, ModelCheckpoint\n",
        "from tensorflow.keras.preprocessing.image import ImageDataGenerator\n",
        "from tensorflow.keras.utils import to_categorical\n",
        "from tensorflow.keras.models import Sequential, model_from_json\n",
        "# from keras.optimizers import SGD, RMSprop, Adam, Adagrad, Adadelta\n",
        "from tensorflow.keras.optimizers import SGD, RMSprop, Adam, Adagrad, Adadelta\n",
        "from tensorflow.keras.layers import Dense, Dropout, Activation, Flatten, BatchNormalization, Conv2D, MaxPool2D, MaxPooling2D, SeparableConv2D\n"
      ],
      "metadata": {
        "id": "eWJE9wq7MpTX"
      },
      "execution_count": null,
      "outputs": []
    },
    {
      "cell_type": "markdown",
      "source": [
        "# 2. Cancernet 모델"
      ],
      "metadata": {
        "id": "4KCEuVaZMbpa"
      }
    },
    {
      "cell_type": "code",
      "source": [
        "with tf.device('/device:GPU:0'):\n",
        "  cancernet = Sequential()\n",
        "  inputShape = (50, 50, 3)\n",
        "\n",
        "  # CONV => RELU => POOL\n",
        "  cancernet.add(SeparableConv2D(32, (3, 3), padding=\"same\",\n",
        "                                input_shape=inputShape))\n",
        "  cancernet.add(Activation(\"relu\"))\n",
        "  cancernet.add(BatchNormalization())\n",
        "  cancernet.add(MaxPooling2D(pool_size=(2, 2)))\n",
        "  cancernet.add(Dropout(0.25))\n",
        "\n",
        "  # (CONV => RELU => POOL) * 2\n",
        "  cancernet.add(SeparableConv2D(64, (3, 3), padding=\"same\"))\n",
        "  cancernet.add(Activation(\"relu\"))\n",
        "  cancernet.add(BatchNormalization())\n",
        "  cancernet.add(SeparableConv2D(64, (3, 3), padding=\"same\"))\n",
        "  cancernet.add(Activation(\"relu\"))\n",
        "  cancernet.add(BatchNormalization())\n",
        "  cancernet.add(MaxPooling2D(pool_size=(2, 2)))\n",
        "  cancernet.add(Dropout(0.25))\n",
        "\n",
        "  # (CONV => RELU => POOL) * 3\n",
        "  cancernet.add(SeparableConv2D(128, (3, 3), padding=\"same\"))\n",
        "  cancernet.add(Activation(\"relu\"))\n",
        "  cancernet.add(BatchNormalization())\n",
        "  cancernet.add(SeparableConv2D(128, (3, 3), padding=\"same\"))\n",
        "  cancernet.add(Activation(\"relu\"))\n",
        "  cancernet.add(BatchNormalization())\n",
        "  cancernet.add(SeparableConv2D(128, (3, 3), padding=\"same\"))\n",
        "  cancernet.add(Activation(\"relu\"))\n",
        "  cancernet.add(BatchNormalization())\n",
        "  cancernet.add(MaxPooling2D(pool_size=(2, 2)))\n",
        "  cancernet.add(Dropout(0.25))\n",
        "\n",
        "  # first (and only) set of FC => RELU layers\n",
        "  cancernet.add(Flatten())\n",
        "  cancernet.add(Dense(256))\n",
        "  cancernet.add(Activation(\"relu\"))\n",
        "  cancernet.add(BatchNormalization())\n",
        "  cancernet.add(Dropout(0.5))\n",
        "\n",
        "  # softmax classifier\n",
        "  cancernet.add(Dense(2))\n",
        "  cancernet.add(Activation(\"softmax\"))"
      ],
      "metadata": {
        "id": "saGb8TqU1ZGf"
      },
      "execution_count": null,
      "outputs": []
    },
    {
      "cell_type": "code",
      "source": [
        "cancernet.summary()"
      ],
      "metadata": {
        "id": "oTDaVBZf4Czf"
      },
      "execution_count": null,
      "outputs": []
    },
    {
      "cell_type": "markdown",
      "source": [
        "# 3. 데이터 불러오기"
      ],
      "metadata": {
        "id": "qPEbFT0GMsvw"
      }
    },
    {
      "cell_type": "code",
      "source": [
        "X = np.load('/content/drive/MyDrive/b_cancer/X.npy') # images\n",
        "Y = np.load('/content/drive/MyDrive/b_cancer/Y.npy') # labels associated to images (0 = no IDC, 1 = IDC)"
      ],
      "metadata": {
        "id": "6P7ccXWDMrY8"
      },
      "execution_count": null,
      "outputs": []
    },
    {
      "cell_type": "code",
      "source": [
        "# X_train, X_test, y_train, y_test = train_test_split(X, Y, test_size=0.2)\n",
        "# X_train, X_val, y_train, y_val = train_test_split(X_train, y_train, test_size=0.2)\n",
        "\n",
        "X_train, X_test, y_train, y_test = train_test_split(X, Y, test_size=0.3)"
      ],
      "metadata": {
        "id": "bzmR9NCCDdov"
      },
      "execution_count": null,
      "outputs": []
    },
    {
      "cell_type": "code",
      "source": [
        "# 0과 1 사이로 스케일 조정\n",
        "\n",
        "X_train = X_train / 255.0\n",
        "# X_val = X_val / 255.0\n",
        "X_test = X_test / 255.0"
      ],
      "metadata": {
        "id": "YSGVsZESGZNe"
      },
      "execution_count": null,
      "outputs": []
    },
    {
      "cell_type": "code",
      "source": [
        "y_train = to_categorical(y_train, num_classes = 2)\n",
        "# y_val = to_categorical(y_val, num_classes = 2)\n",
        "y_test = to_categorical(y_test, num_classes = 2)"
      ],
      "metadata": {
        "id": "t0yckBPMGfxh"
      },
      "execution_count": null,
      "outputs": []
    },
    {
      "cell_type": "markdown",
      "source": [
        "#### 클래스 가중치 계산"
      ],
      "metadata": {
        "id": "GJzecSOONMWW"
      }
    },
    {
      "cell_type": "code",
      "source": [
        "classTotals = y_train.sum(axis=0)\n",
        "classTotals"
      ],
      "metadata": {
        "colab": {
          "base_uri": "https://localhost:8080/"
        },
        "id": "choUlqEqGz_1",
        "outputId": "c08f622f-2035-4510-96e7-48ce9e2d04b7"
      },
      "execution_count": null,
      "outputs": [
        {
          "output_type": "execute_result",
          "data": {
            "text/plain": [
              "array([1910., 1972.], dtype=float32)"
            ]
          },
          "metadata": {},
          "execution_count": 8
        }
      ]
    },
    {
      "cell_type": "code",
      "source": [
        "# loop over all classes and calculate the class weight\n",
        "classWeight = dict()\n",
        "\n",
        "for i in range(0, len(classTotals)):\n",
        "  classWeight[i] = classTotals.max() / classTotals[i]\n",
        "\n",
        "classWeight"
      ],
      "metadata": {
        "colab": {
          "base_uri": "https://localhost:8080/"
        },
        "id": "4MRq811vKYsV",
        "outputId": "bd90dc3d-04fc-4749-dc97-47cc4194c606"
      },
      "execution_count": null,
      "outputs": [
        {
          "output_type": "execute_result",
          "data": {
            "text/plain": [
              "{0: 1.0324607, 1: 1.0}"
            ]
          },
          "metadata": {},
          "execution_count": 9
        }
      ]
    },
    {
      "cell_type": "markdown",
      "source": [
        "*(4. Data Augmentation)*"
      ],
      "metadata": {
        "id": "DFKUqtYIMOiS"
      }
    },
    {
      "cell_type": "code",
      "source": [
        "# # initialize the training data augmentation object\n",
        "# trainAug = ImageDataGenerator(\n",
        "#     \trotation_range=20,\n",
        "#       zoom_range=0.05,\n",
        "#       width_shift_range=0.1,\n",
        "#       height_shift_range=0.1,\n",
        "#       shear_range=0.05,\n",
        "#       horizontal_flip=True,\n",
        "#       vertical_flip=True,\n",
        "#       fill_mode=\"nearest\")\n",
        "\n",
        "# # initialize the validation (and testing) data augmentation object\n",
        "# valAug = ImageDataGenerator()"
      ],
      "metadata": {
        "id": "VdY55rfvKZQI"
      },
      "execution_count": null,
      "outputs": []
    },
    {
      "cell_type": "code",
      "source": [
        "# BS = 32\n",
        "\n",
        "# # initialize the training generator\n",
        "# trainGen = trainAug.flow(X_train, batch_size=BS)\n",
        "\n",
        "# # initialize the validation generator\n",
        "# valGen = valAug.flow(X_val, batch_size=BS)\n",
        "\n",
        "# # initialize the testing generator\n",
        "# testGen = valAug.flow(X_test, batch_size=BS)"
      ],
      "metadata": {
        "id": "w9XDsriMKuQE"
      },
      "execution_count": null,
      "outputs": []
    },
    {
      "cell_type": "markdown",
      "source": [
        "# 5. 모델 컴파일하고 학습 시작"
      ],
      "metadata": {
        "id": "NeFFhThDNq-G"
      }
    },
    {
      "cell_type": "code",
      "source": [
        "with tf.device('/device:GPU:0'):\n",
        "  NUM_EPOCHS = 40\n",
        "  INIT_LR = 1e-2\n",
        "  BS = 32\n",
        "  \n",
        "  opt = Adagrad(learning_rate=INIT_LR, decay=INIT_LR / NUM_EPOCHS)\n",
        "  cancernet.compile(loss=\"binary_crossentropy\", optimizer=opt, metrics=[\"accuracy\"])\n",
        "\n",
        "  H = cancernet.fit(X_train, y_train, \n",
        "                validation_data = (X_test, y_test),\n",
        "                class_weight = classWeight,\n",
        "                epochs = NUM_EPOCHS)"
      ],
      "metadata": {
        "colab": {
          "base_uri": "https://localhost:8080/"
        },
        "id": "M3aHS81qHTac",
        "outputId": "1cfaf856-869c-4649-df86-52c1968949c0"
      },
      "execution_count": null,
      "outputs": [
        {
          "output_type": "stream",
          "name": "stdout",
          "text": [
            "Epoch 1/40\n",
            "122/122 [==============================] - 15s 21ms/step - loss: 0.7422 - accuracy: 0.6984 - val_loss: 0.8387 - val_accuracy: 0.5099\n",
            "Epoch 2/40\n",
            "122/122 [==============================] - 2s 15ms/step - loss: 0.6115 - accuracy: 0.7504 - val_loss: 0.9102 - val_accuracy: 0.5099\n",
            "Epoch 3/40\n",
            "122/122 [==============================] - 2s 15ms/step - loss: 0.5790 - accuracy: 0.7633 - val_loss: 1.0987 - val_accuracy: 0.5099\n",
            "Epoch 4/40\n",
            "122/122 [==============================] - 2s 14ms/step - loss: 0.5503 - accuracy: 0.7702 - val_loss: 0.9066 - val_accuracy: 0.7255\n",
            "Epoch 5/40\n",
            "122/122 [==============================] - 2s 13ms/step - loss: 0.5457 - accuracy: 0.7718 - val_loss: 0.5586 - val_accuracy: 0.7471\n",
            "Epoch 6/40\n",
            "122/122 [==============================] - 2s 14ms/step - loss: 0.5314 - accuracy: 0.7772 - val_loss: 0.4883 - val_accuracy: 0.7760\n",
            "Epoch 7/40\n",
            "122/122 [==============================] - 2s 13ms/step - loss: 0.5103 - accuracy: 0.7803 - val_loss: 0.5475 - val_accuracy: 0.7610\n",
            "Epoch 8/40\n",
            "122/122 [==============================] - 2s 15ms/step - loss: 0.4999 - accuracy: 0.7831 - val_loss: 0.5522 - val_accuracy: 0.7568\n",
            "Epoch 9/40\n",
            "122/122 [==============================] - 2s 14ms/step - loss: 0.5011 - accuracy: 0.7826 - val_loss: 0.4658 - val_accuracy: 0.7892\n",
            "Epoch 10/40\n",
            "122/122 [==============================] - 2s 13ms/step - loss: 0.4908 - accuracy: 0.7906 - val_loss: 0.4830 - val_accuracy: 0.7808\n",
            "Epoch 11/40\n",
            "122/122 [==============================] - 2s 13ms/step - loss: 0.4886 - accuracy: 0.7898 - val_loss: 0.5242 - val_accuracy: 0.7712\n",
            "Epoch 12/40\n",
            "122/122 [==============================] - 2s 13ms/step - loss: 0.4972 - accuracy: 0.7844 - val_loss: 0.5265 - val_accuracy: 0.7538\n",
            "Epoch 13/40\n",
            "122/122 [==============================] - 2s 14ms/step - loss: 0.4882 - accuracy: 0.7916 - val_loss: 0.4622 - val_accuracy: 0.7880\n",
            "Epoch 14/40\n",
            "122/122 [==============================] - 2s 14ms/step - loss: 0.4762 - accuracy: 0.7906 - val_loss: 0.5218 - val_accuracy: 0.7706\n",
            "Epoch 15/40\n",
            "122/122 [==============================] - 2s 14ms/step - loss: 0.4707 - accuracy: 0.7926 - val_loss: 0.4658 - val_accuracy: 0.7856\n",
            "Epoch 16/40\n",
            "122/122 [==============================] - 2s 14ms/step - loss: 0.4594 - accuracy: 0.7978 - val_loss: 0.4601 - val_accuracy: 0.7850\n",
            "Epoch 17/40\n",
            "122/122 [==============================] - 2s 14ms/step - loss: 0.4681 - accuracy: 0.7970 - val_loss: 0.5089 - val_accuracy: 0.7622\n",
            "Epoch 18/40\n",
            "122/122 [==============================] - 2s 14ms/step - loss: 0.4568 - accuracy: 0.8040 - val_loss: 0.4665 - val_accuracy: 0.7898\n",
            "Epoch 19/40\n",
            "122/122 [==============================] - 2s 14ms/step - loss: 0.4633 - accuracy: 0.7973 - val_loss: 0.5289 - val_accuracy: 0.7706\n",
            "Epoch 20/40\n",
            "122/122 [==============================] - 2s 14ms/step - loss: 0.4575 - accuracy: 0.8011 - val_loss: 0.5065 - val_accuracy: 0.7670\n",
            "Epoch 21/40\n",
            "122/122 [==============================] - 2s 13ms/step - loss: 0.4485 - accuracy: 0.8107 - val_loss: 0.4766 - val_accuracy: 0.7796\n",
            "Epoch 22/40\n",
            "122/122 [==============================] - 2s 13ms/step - loss: 0.4504 - accuracy: 0.8094 - val_loss: 0.4815 - val_accuracy: 0.7910\n",
            "Epoch 23/40\n",
            "122/122 [==============================] - 2s 14ms/step - loss: 0.4474 - accuracy: 0.8050 - val_loss: 0.4638 - val_accuracy: 0.7970\n",
            "Epoch 24/40\n",
            "122/122 [==============================] - 2s 13ms/step - loss: 0.4483 - accuracy: 0.8001 - val_loss: 0.4657 - val_accuracy: 0.7904\n",
            "Epoch 25/40\n",
            "122/122 [==============================] - 2s 14ms/step - loss: 0.4441 - accuracy: 0.8053 - val_loss: 0.4781 - val_accuracy: 0.7886\n",
            "Epoch 26/40\n",
            "122/122 [==============================] - 2s 14ms/step - loss: 0.4462 - accuracy: 0.8047 - val_loss: 0.4702 - val_accuracy: 0.7922\n",
            "Epoch 27/40\n",
            "122/122 [==============================] - 2s 13ms/step - loss: 0.4411 - accuracy: 0.8078 - val_loss: 0.4611 - val_accuracy: 0.7946\n",
            "Epoch 28/40\n",
            "122/122 [==============================] - 2s 13ms/step - loss: 0.4361 - accuracy: 0.8187 - val_loss: 0.4801 - val_accuracy: 0.7850\n",
            "Epoch 29/40\n",
            "122/122 [==============================] - 2s 13ms/step - loss: 0.4369 - accuracy: 0.8197 - val_loss: 0.4500 - val_accuracy: 0.8036\n",
            "Epoch 30/40\n",
            "122/122 [==============================] - 2s 14ms/step - loss: 0.4330 - accuracy: 0.8148 - val_loss: 0.5119 - val_accuracy: 0.7694\n",
            "Epoch 31/40\n",
            "122/122 [==============================] - 2s 13ms/step - loss: 0.4330 - accuracy: 0.8179 - val_loss: 0.4668 - val_accuracy: 0.7910\n",
            "Epoch 32/40\n",
            "122/122 [==============================] - 2s 13ms/step - loss: 0.4219 - accuracy: 0.8228 - val_loss: 0.4779 - val_accuracy: 0.7856\n",
            "Epoch 33/40\n",
            "122/122 [==============================] - 2s 14ms/step - loss: 0.4334 - accuracy: 0.8156 - val_loss: 0.4580 - val_accuracy: 0.7958\n",
            "Epoch 34/40\n",
            "122/122 [==============================] - 2s 13ms/step - loss: 0.4231 - accuracy: 0.8261 - val_loss: 0.4828 - val_accuracy: 0.7850\n",
            "Epoch 35/40\n",
            "122/122 [==============================] - 2s 14ms/step - loss: 0.4250 - accuracy: 0.8153 - val_loss: 0.4653 - val_accuracy: 0.7994\n",
            "Epoch 36/40\n",
            "122/122 [==============================] - 2s 14ms/step - loss: 0.4232 - accuracy: 0.8168 - val_loss: 0.5377 - val_accuracy: 0.7628\n",
            "Epoch 37/40\n",
            "122/122 [==============================] - 2s 14ms/step - loss: 0.4257 - accuracy: 0.8166 - val_loss: 0.4835 - val_accuracy: 0.7832\n",
            "Epoch 38/40\n",
            "122/122 [==============================] - 2s 14ms/step - loss: 0.4178 - accuracy: 0.8223 - val_loss: 0.4797 - val_accuracy: 0.7826\n",
            "Epoch 39/40\n",
            "122/122 [==============================] - 2s 14ms/step - loss: 0.4163 - accuracy: 0.8207 - val_loss: 0.4715 - val_accuracy: 0.7958\n",
            "Epoch 40/40\n",
            "122/122 [==============================] - 2s 14ms/step - loss: 0.4147 - accuracy: 0.8207 - val_loss: 0.4726 - val_accuracy: 0.7940\n"
          ]
        }
      ]
    },
    {
      "cell_type": "code",
      "source": [
        "history_dict = H.history\n",
        "\n",
        "loss = history_dict['loss']\n",
        "val_loss = history_dict['val_loss']\n",
        "\n",
        "acc = history_dict['accuracy']\n",
        "val_acc = history_dict['val_accuracy']\n",
        "\n",
        "epochs = range(1, len(acc)+1)\n",
        "\n",
        "plt.figure(figsize=(15,5))\n",
        "\n",
        "plt.subplot(121)\n",
        "plt.plot(epochs, loss, 'bo', label='Training loss')\n",
        "plt.plot(epochs, val_loss, 'b', label='Validation loss')\n",
        "plt.title('Training and validation loss')\n",
        "plt.xlabel('Epochs')\n",
        "plt.ylabel('Loss')\n",
        "plt.legend()\n",
        "\n",
        "plt.subplot(122)\n",
        "plt.plot(epochs, acc, 'bo', label='Training acc')\n",
        "plt.plot(epochs, val_acc, 'b', label='Validation acc')\n",
        "plt.title('Training and validation accuary')\n",
        "plt.xlabel('Epochs')\n",
        "plt.ylabel('Accuracy')\n",
        "plt.legend()\n",
        "\n",
        "plt.show()"
      ],
      "metadata": {
        "colab": {
          "base_uri": "https://localhost:8080/",
          "height": 350
        },
        "id": "Uo2_NSck0FCt",
        "outputId": "f1d61911-d901-4cd2-cafe-10fc795b507b"
      },
      "execution_count": null,
      "outputs": [
        {
          "output_type": "display_data",
          "data": {
            "text/plain": [
              "<Figure size 1080x360 with 2 Axes>"
            ],
            "image/png": "[encoded data removed]"
          },
          "metadata": {
            "needs_background": "light"
          }
        }
      ]
    }
  ]
}